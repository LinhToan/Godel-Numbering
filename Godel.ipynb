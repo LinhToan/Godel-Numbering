{
 "cells": [
  {
   "cell_type": "code",
   "execution_count": 34,
   "id": "502d8eba-14f5-42a7-a16f-83851651e9cc",
   "metadata": {},
   "outputs": [],
   "source": [
    "import math as m\n",
    "from functools import reduce"
   ]
  },
  {
   "cell_type": "code",
   "execution_count": 35,
   "id": "6e96a77f-201c-40e9-ac12-e45cfc26c1d4",
   "metadata": {},
   "outputs": [],
   "source": [
    "# This function will take in a string and return its respective Godel number via the Godel numbering process. \n",
    "# This will be accomplished by creating a list of each string's character, converting each character into its ascii number, \n",
    "# then raise each successive prime number to these ascii numbers, and multiply them together.\n",
    "def godel(sentence):\n",
    "    # Create a list of each character in sentence.\n",
    "    letters = list(sentence)\n",
    "    # Create a list of ascii numbers.\n",
    "    ascii_list = [ord(e) for e in letters]\n",
    "    # Generate prime numbers.\n",
    "    prime_list = godel_primes(ascii_list)\n",
    "    # Raise prime numbers to the power of ascii_list elements\n",
    "    godel_list = godel_encoding(prime_list, ascii_list)\n",
    "    # Converts ints in godel_number to string and concatenates them into one string.\n",
    "    godel_number = reduce(lambda x,y: x+y, godel_list)\n",
    "    # return sentence's Godel number.\n",
    "    return godel_number"
   ]
  },
  {
   "cell_type": "code",
   "execution_count": 28,
   "id": "98062db3-b4dc-4f6d-9030-de4025872ba1",
   "metadata": {},
   "outputs": [],
   "source": [
    "# This function will generate prime numbers and raise them to the power of ascii_list's elements.\n",
    "def godel_primes(ascii_list):\n",
    "    # Get length of ascii_list so we know how many primes to generate\n",
    "    prime_len = len(ascii_list)\n",
    "    # Declare counter variable for prime numbers\n",
    "    counter = 2\n",
    "    # Declare prime number candidate\n",
    "    candidate = 5\n",
    "    # Declare number to divide candidate to check if prime\n",
    "    div = 3\n",
    "    # Initialize array for storing prime numbers.\n",
    "    prime_array = [2, 3]\n",
    "    # Since prime_array is initailized with 2 and 3, if ascii_list has 2 or fewer elements,\n",
    "    # we don't need to generate more prime numbers.\n",
    "    if len(prime_array) >= len(ascii_list):\n",
    "        return prime_array\n",
    "    else: # Generate prime numbers using while loop we don't know how many times we need to iterate\n",
    "        while counter < len(ascii_list):\n",
    "            # Declare upper limit for div\n",
    "            max_factor = m.ceil(m.sqrt(candidate))\n",
    "            while div <= max_factor: # Do candidate mod div while div is less than or equal to max_factor\n",
    "                if div % candidate == 0: # If candidate is not prime, move on to the next iteration\n",
    "                    pass\n",
    "                else:\n",
    "                    div += 2 # If candidate mod div is non-zero, increment div by 2 since we're only testing odd numbers\n",
    "            prime_array.append(candidate) # If candidate is not divizible by any odd numbers up to max_factor, it's prime\n",
    "            counter += 1 # Increment prime counter\n",
    "            candidate += 2 # Increment candidate by 2 since we're only testing odd numbers\n",
    "    return prime_array"
   ]
  },
  {
   "cell_type": "code",
   "execution_count": 29,
   "id": "6882a1f2-90cf-4b47-bf3f-b8e45493e80f",
   "metadata": {},
   "outputs": [],
   "source": [
    "# This function will raise prime numbers to the power of ascii numbers\n",
    "def godel_encoding(prime_list, ascii_list):\n",
    "    primes_ascii = []\n",
    "    for i,e in enumerate(prime_list):\n",
    "        primes_ascii.append(e ** ascii_list[i])\n",
    "    return primes_ascii"
   ]
  },
  {
   "cell_type": "code",
   "execution_count": 37,
   "id": "60be1a49-8817-43ee-bf95-b8e12ec88ac4",
   "metadata": {},
   "outputs": [
    {
     "ename": "IndexError",
     "evalue": "list index out of range",
     "output_type": "error",
     "traceback": [
      "\u001b[1;31m---------------------------------------------------------------------------\u001b[0m",
      "\u001b[1;31mIndexError\u001b[0m                                Traceback (most recent call last)",
      "\u001b[1;32m<ipython-input-37-712aaf9872de>\u001b[0m in \u001b[0;36m<module>\u001b[1;34m\u001b[0m\n\u001b[0;32m      1\u001b[0m \u001b[0msentence\u001b[0m \u001b[1;33m=\u001b[0m \u001b[1;34m'a'\u001b[0m\u001b[1;33m\u001b[0m\u001b[1;33m\u001b[0m\u001b[0m\n\u001b[1;32m----> 2\u001b[1;33m \u001b[0mgodel\u001b[0m\u001b[1;33m(\u001b[0m\u001b[0msentence\u001b[0m\u001b[1;33m)\u001b[0m\u001b[1;33m\u001b[0m\u001b[1;33m\u001b[0m\u001b[0m\n\u001b[0m\u001b[0;32m      3\u001b[0m \u001b[1;31m# x = [1, 2, 3, 4, 5, 6]\u001b[0m\u001b[1;33m\u001b[0m\u001b[1;33m\u001b[0m\u001b[1;33m\u001b[0m\u001b[0m\n\u001b[0;32m      4\u001b[0m \u001b[1;31m# y = godel_primes(x)\u001b[0m\u001b[1;33m\u001b[0m\u001b[1;33m\u001b[0m\u001b[1;33m\u001b[0m\u001b[0m\n\u001b[0;32m      5\u001b[0m \u001b[1;31m# godel_encoding(y, x)\u001b[0m\u001b[1;33m\u001b[0m\u001b[1;33m\u001b[0m\u001b[1;33m\u001b[0m\u001b[0m\n",
      "\u001b[1;32m<ipython-input-35-6da16706e6e6>\u001b[0m in \u001b[0;36mgodel\u001b[1;34m(sentence)\u001b[0m\n\u001b[0;32m     10\u001b[0m     \u001b[0mprime_list\u001b[0m \u001b[1;33m=\u001b[0m \u001b[0mgodel_primes\u001b[0m\u001b[1;33m(\u001b[0m\u001b[0mascii_list\u001b[0m\u001b[1;33m)\u001b[0m\u001b[1;33m\u001b[0m\u001b[1;33m\u001b[0m\u001b[0m\n\u001b[0;32m     11\u001b[0m     \u001b[1;31m# Raise prime numbers to the power of ascii_list elements\u001b[0m\u001b[1;33m\u001b[0m\u001b[1;33m\u001b[0m\u001b[1;33m\u001b[0m\u001b[0m\n\u001b[1;32m---> 12\u001b[1;33m     \u001b[0mgodel_list\u001b[0m \u001b[1;33m=\u001b[0m \u001b[0mgodel_encoding\u001b[0m\u001b[1;33m(\u001b[0m\u001b[0mprime_list\u001b[0m\u001b[1;33m,\u001b[0m \u001b[0mascii_list\u001b[0m\u001b[1;33m)\u001b[0m\u001b[1;33m\u001b[0m\u001b[1;33m\u001b[0m\u001b[0m\n\u001b[0m\u001b[0;32m     13\u001b[0m     \u001b[1;31m# Converts ints in godel_number to string and concatenates them into one string.\u001b[0m\u001b[1;33m\u001b[0m\u001b[1;33m\u001b[0m\u001b[1;33m\u001b[0m\u001b[0m\n\u001b[0;32m     14\u001b[0m     \u001b[0mgodel_number\u001b[0m \u001b[1;33m=\u001b[0m \u001b[0mreduce\u001b[0m\u001b[1;33m(\u001b[0m\u001b[1;32mlambda\u001b[0m \u001b[0mx\u001b[0m\u001b[1;33m,\u001b[0m\u001b[0my\u001b[0m\u001b[1;33m:\u001b[0m \u001b[0mx\u001b[0m\u001b[1;33m+\u001b[0m\u001b[0my\u001b[0m\u001b[1;33m,\u001b[0m \u001b[0mgodel_list\u001b[0m\u001b[1;33m)\u001b[0m\u001b[1;33m\u001b[0m\u001b[1;33m\u001b[0m\u001b[0m\n",
      "\u001b[1;32m<ipython-input-29-bb450e6d27ff>\u001b[0m in \u001b[0;36mgodel_encoding\u001b[1;34m(prime_list, ascii_list)\u001b[0m\n\u001b[0;32m      3\u001b[0m     \u001b[0mprimes_ascii\u001b[0m \u001b[1;33m=\u001b[0m \u001b[1;33m[\u001b[0m\u001b[1;33m]\u001b[0m\u001b[1;33m\u001b[0m\u001b[1;33m\u001b[0m\u001b[0m\n\u001b[0;32m      4\u001b[0m     \u001b[1;32mfor\u001b[0m \u001b[0mi\u001b[0m\u001b[1;33m,\u001b[0m\u001b[0me\u001b[0m \u001b[1;32min\u001b[0m \u001b[0menumerate\u001b[0m\u001b[1;33m(\u001b[0m\u001b[0mprime_list\u001b[0m\u001b[1;33m)\u001b[0m\u001b[1;33m:\u001b[0m\u001b[1;33m\u001b[0m\u001b[1;33m\u001b[0m\u001b[0m\n\u001b[1;32m----> 5\u001b[1;33m         \u001b[0mprimes_ascii\u001b[0m\u001b[1;33m.\u001b[0m\u001b[0mappend\u001b[0m\u001b[1;33m(\u001b[0m\u001b[0me\u001b[0m \u001b[1;33m**\u001b[0m \u001b[0mascii_list\u001b[0m\u001b[1;33m[\u001b[0m\u001b[0mi\u001b[0m\u001b[1;33m]\u001b[0m\u001b[1;33m)\u001b[0m\u001b[1;33m\u001b[0m\u001b[1;33m\u001b[0m\u001b[0m\n\u001b[0m\u001b[0;32m      6\u001b[0m     \u001b[1;32mreturn\u001b[0m \u001b[0mprimes_ascii\u001b[0m\u001b[1;33m\u001b[0m\u001b[1;33m\u001b[0m\u001b[0m\n",
      "\u001b[1;31mIndexError\u001b[0m: list index out of range"
     ]
    }
   ],
   "source": [
    "sentence = 'a'\n",
    "godel(sentence)\n",
    "# x = [1, 2, 3, 4, 5, 6]\n",
    "# y = godel_primes(x)\n",
    "# godel_encoding(y, x)"
   ]
  },
  {
   "cell_type": "code",
   "execution_count": null,
   "id": "eeccdbdc-c5ea-4360-9ffa-5d10245fd978",
   "metadata": {},
   "outputs": [],
   "source": []
  }
 ],
 "metadata": {
  "kernelspec": {
   "display_name": "Python 3",
   "language": "python",
   "name": "python3"
  },
  "language_info": {
   "codemirror_mode": {
    "name": "ipython",
    "version": 3
   },
   "file_extension": ".py",
   "mimetype": "text/x-python",
   "name": "python",
   "nbconvert_exporter": "python",
   "pygments_lexer": "ipython3",
   "version": "3.8.8"
  }
 },
 "nbformat": 4,
 "nbformat_minor": 5
}
